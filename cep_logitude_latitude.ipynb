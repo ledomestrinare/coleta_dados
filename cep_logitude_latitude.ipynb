{
 "cells": [
  {
   "cell_type": "code",
   "execution_count": 10,
   "metadata": {},
   "outputs": [],
   "source": [
    "import requests\n",
    "from opencage.geocoder import OpenCageGeocode\n",
    "# key = eb340abbe49d4d0b9b77ac5edfff3f95"
   ]
  },
  {
   "cell_type": "code",
   "execution_count": 33,
   "metadata": {},
   "outputs": [],
   "source": [
    "def cep_para_lat_long():\n",
    "    try:\n",
    "        cep = input(\"Qual o CEP (somente números):\")\n",
    "        urlviacep = f'http://viacep.com.br/ws/{cep}/json'\n",
    "        resp_json = requests.get(urlviacep).json()\n",
    "        logradouro =  resp_json[\"logradouro\"]\n",
    "        bairro = resp_json['bairro']\n",
    "        localidade = resp_json['localidade']\n",
    "        uf = resp_json['uf']\n",
    "        query = logradouro + ' ' + bairro + ' ' + localidade + ' ' + uf\n",
    "        key = input(\"Insira sua key: \")\n",
    "        geocoder = OpenCageGeocode(key)\n",
    "        results = geocoder.geocode(query)\n",
    "        longitude = str(results[0]['annotations']['DMS']['lng'])\n",
    "        latitude = str(results[0]['annotations']['DMS']['lat'])\n",
    "        print(\"O endereço é : %s\" %query)\n",
    "        print(\"A latitude é: %s\" %latitude)\n",
    "        print(\"A longitude é: %s\" %longitude) \n",
    "        \n",
    "        \n",
    "    except KeyError: \n",
    "        print ('CEP SEM CADASTRO')"
   ]
  },
  {
   "cell_type": "code",
   "execution_count": 34,
   "metadata": {
    "tags": []
   },
   "outputs": [
    {
     "output_type": "stream",
     "name": "stdout",
     "text": "O endereço é : Rua Campos Salles Boa Vista São José do Rio Preto SP\nA latitude é: 20° 47' 49.96536'' S\nA longitude é: 49° 22' 59.96100'' W\n"
    }
   ],
   "source": [
    "cep_para_lat_long()"
   ]
  },
  {
   "cell_type": "code",
   "execution_count": 25,
   "metadata": {
    "scrolled": true,
    "tags": []
   },
   "outputs": [
    {
     "output_type": "error",
     "ename": "NameError",
     "evalue": "name 'latlong' is not defined",
     "traceback": [
      "\u001b[0;31m---------------------------------------------------------------------------\u001b[0m",
      "\u001b[0;31mNameError\u001b[0m                                 Traceback (most recent call last)",
      "\u001b[0;32m<ipython-input-25-38f3bcd458db>\u001b[0m in \u001b[0;36m<module>\u001b[0;34m\u001b[0m\n\u001b[0;32m----> 1\u001b[0;31m \u001b[0mlatlong\u001b[0m\u001b[0;34m\u001b[0m\u001b[0;34m\u001b[0m\u001b[0m\n\u001b[0m",
      "\u001b[0;31mNameError\u001b[0m: name 'latlong' is not defined"
     ]
    }
   ],
   "source": []
  },
  {
   "cell_type": "code",
   "execution_count": null,
   "metadata": {},
   "outputs": [],
   "source": [
    "eb340abbe49d4d0b9b77ac5edfff3f95"
   ]
  }
 ],
 "metadata": {
  "kernelspec": {
   "display_name": "Python 3",
   "language": "python",
   "name": "python3"
  },
  "language_info": {
   "codemirror_mode": {
    "name": "ipython",
    "version": 3
   },
   "file_extension": ".py",
   "mimetype": "text/x-python",
   "name": "python",
   "nbconvert_exporter": "python",
   "pygments_lexer": "ipython3",
   "version": "3.7.6-final"
  }
 },
 "nbformat": 4,
 "nbformat_minor": 4
}